{
  "nbformat": 4,
  "nbformat_minor": 0,
  "metadata": {
    "colab": {
      "name": "Untitled1.ipynb의 사본의 사본",
      "provenance": [],
      "collapsed_sections": [],
      "authorship_tag": "ABX9TyNmoQeFYL/0VZy/8wnSSiwi",
      "include_colab_link": true
    },
    "kernelspec": {
      "name": "python3",
      "display_name": "Python 3"
    }
  },
  "cells": [
    {
      "cell_type": "markdown",
      "metadata": {
        "id": "view-in-github",
        "colab_type": "text"
      },
      "source": [
        "<a href=\"https://colab.research.google.com/github/yjjo94/class2021spring/blob/main/syntax.ipynb\" target=\"_parent\"><img src=\"https://colab.research.google.com/assets/colab-badge.svg\" alt=\"Open In Colab\"/></a>"
      ]
    },
    {
      "cell_type": "code",
      "metadata": {
        "id": "Fu2mzgrqSLAU",
        "colab": {
          "base_uri": "https://localhost:8080/"
        },
        "outputId": "f4201e2c-dd60-4f76-9c66-fdd9910dad9f"
      },
      "source": [
        "a = [5, 2, 9, 12]\n",
        "for i in a:\n",
        "    print(i)"
      ],
      "execution_count": null,
      "outputs": [
        {
          "output_type": "stream",
          "text": [
            "5\n",
            "2\n",
            "9\n",
            "12\n"
          ],
          "name": "stdout"
        }
      ]
    },
    {
      "cell_type": "markdown",
      "metadata": {
        "id": "6XWNN1vAmgKK"
      },
      "source": [
        "for______ in _____ : ---> for은 내용을 몇번 반복할것이냐를 뜻함. 저 함수식 아래에 repeat 될 내용이 나와야함.\r\n",
        "\r\n",
        "i in 리스트 를 하면 리스트의 숫자들이 i 자리에 하나 하나씩 박힌다.\r\n",
        "\r\n",
        "\r\n",
        "in range(3) ---> 0 1 2 라는 인덱스 3개를 만들어주는 것. = [0, 1, 2]\r\n",
        "\r\n"
      ]
    },
    {
      "cell_type": "code",
      "metadata": {
        "id": "XSJxLJVCSLAW",
        "outputId": "921b10b7-3bc8-4345-a6b2-16253a900c95"
      },
      "source": [
        "a = [5, 2, 9, 12]\n",
        "for i in range(len(a)):\n",
        "    print(a[i])"
      ],
      "execution_count": null,
      "outputs": [
        {
          "output_type": "stream",
          "text": [
            "1\n",
            "2\n",
            "3\n",
            "4\n"
          ],
          "name": "stdout"
        }
      ]
    },
    {
      "cell_type": "markdown",
      "metadata": {
        "id": "gk0NseXXnFeT"
      },
      "source": [
        "in range(len(a))는 in range(4) 라고 쓴것과 동일함. range(0,4)도 똑같음. 0부터 4 이전까지 만들어라 라는 뜻. \r\n",
        "\r\n",
        "만약 range(1,4)라고 쓰면 뭐라고 나올까? a[1], a[2], a[3]이 들어가서 2 3 4가 나온다. \r\n",
        "\r\n",
        "range(1,5)를 하면 에러가 나온다. a[4]가 존재하지 않기 때문\r\n",
        "\r\n",
        "range(0,4,2)를 하면 1 3 이 나온다. 0부터 4전까지 두칸을 뛰어라. 라는 뜻임. (0,4,1)은 (0,4)랑 똑같다. 아래에는 좀더 긴 예시."
      ]
    },
    {
      "cell_type": "code",
      "metadata": {
        "colab": {
          "base_uri": "https://localhost:8080/"
        },
        "id": "HTB7PEMyop1n",
        "outputId": "6ef5fcc1-3c15-49b6-eaf2-85a3a4eafc07"
      },
      "source": [
        "a = [5, 2, 9, 12, 13, 14, 15, 16, 17]\n",
        "for i in range(0,10,2):\n",
        "    print(a[i])"
      ],
      "execution_count": 4,
      "outputs": [
        {
          "output_type": "stream",
          "text": [
            "5\n",
            "9\n",
            "13\n",
            "15\n",
            "17\n"
          ],
          "name": "stdout"
        }
      ]
    },
    {
      "cell_type": "markdown",
      "metadata": {
        "id": "QsAnOwxRo3hS"
      },
      "source": [
        "더 긴 예시"
      ]
    },
    {
      "cell_type": "code",
      "metadata": {
        "id": "VTfxVRdgSLAW",
        "colab": {
          "base_uri": "https://localhost:8080/"
        },
        "outputId": "f3f7ce91-91f2-4f71-a849-c19dbefb907d"
      },
      "source": [
        "a = ['red', 'green', 'blue', 'purple']\n",
        "for i in a:\n",
        "    print(i)"
      ],
      "execution_count": 5,
      "outputs": [
        {
          "output_type": "stream",
          "text": [
            "red\n",
            "green\n",
            "blue\n",
            "purple\n"
          ],
          "name": "stdout"
        }
      ]
    },
    {
      "cell_type": "code",
      "metadata": {
        "id": "Vc-7pW85SLAW",
        "outputId": "9394e177-c8c8-44db-ff28-1e9566072bb3"
      },
      "source": [
        "a = ['red', 'green', 'blue', 'purple']\n",
        "for i in range(len(a)):\n",
        "    print(a[i])"
      ],
      "execution_count": null,
      "outputs": [
        {
          "output_type": "stream",
          "text": [
            "red\n",
            "green\n",
            "blue\n",
            "purple\n"
          ],
          "name": "stdout"
        }
      ]
    },
    {
      "cell_type": "code",
      "metadata": {
        "id": "XOdMzcWsSLAX",
        "outputId": "c9c342e6-cdd1-4e53-cdac-6aa00cfd0892"
      },
      "source": [
        "a = [\"red\", \"green\", \"blue\", \"purple\"]\n",
        "b = [0.2, 0.3, 0.1, 0.4]\n",
        "for i, a_ in enumerate(a):\n",
        "    print(\"{}: {}%\".format(a_, b[i]*100))"
      ],
      "execution_count": null,
      "outputs": [
        {
          "output_type": "stream",
          "text": [
            "red: 20.0%\n",
            "green: 30.0%\n",
            "blue: 10.0%\n",
            "purple: 40.0%\n"
          ],
          "name": "stdout"
        }
      ]
    },
    {
      "cell_type": "markdown",
      "metadata": {
        "id": "6I--1BUmpVP7"
      },
      "source": [
        "skip"
      ]
    },
    {
      "cell_type": "code",
      "metadata": {
        "id": "Ej_gWa3oSLAX",
        "outputId": "1de011cd-c635-4565-d51a-aa3a8dec287c"
      },
      "source": [
        "a = [\"red\", \"green\", \"blue\", \"purple\"]\n",
        "b = [0.2, 0.3, 0.1, 0.4]\n",
        "for a_, b_ in zip(a, b):\n",
        "    print(\"{}: {}%\".format(a_, b_*100))\n"
      ],
      "execution_count": null,
      "outputs": [
        {
          "output_type": "stream",
          "text": [
            "red: 20.0%\n",
            "green: 30.0%\n",
            "blue: 10.0%\n",
            "purple: 40.0%\n"
          ],
          "name": "stdout"
        }
      ]
    },
    {
      "cell_type": "markdown",
      "metadata": {
        "id": "69WoR8o3pWp7"
      },
      "source": [
        "skip"
      ]
    },
    {
      "cell_type": "code",
      "metadata": {
        "id": "dD-ephD3SLAX",
        "outputId": "69d729f8-996a-41be-d84b-f1bd2a7c809c"
      },
      "source": [
        "a = 0\n",
        "if a == 0:\n",
        "    print(a)\n",
        "else:\n",
        "    print(a+1)"
      ],
      "execution_count": null,
      "outputs": [
        {
          "output_type": "stream",
          "text": [
            "0\n"
          ],
          "name": "stdout"
        }
      ]
    },
    {
      "cell_type": "markdown",
      "metadata": {
        "id": "VmV5xMlupY0q"
      },
      "source": [
        "제어문(syntax)에는 두개가 있다. 하나는 loop(for을 배웠다) 하나는 condition(if가 있다)\r\n",
        "\r\n",
        "if _________ :\r\n",
        "\r\n",
        "(tap키) _________   --> ~하면 ~하고\r\n",
        "\r\n",
        "== 는 equal sign이다.\r\n",
        "\r\n",
        "만약 if a == 1: 으로 바뀐다면 답은 2가 나올 것이다.\r\n",
        "\r\n",
        "else 부분이 없고 a==1: 이라면 답은 안나온다."
      ]
    },
    {
      "cell_type": "code",
      "metadata": {
        "id": "M0AZaDMvSLAY",
        "colab": {
          "base_uri": "https://localhost:8080/"
        },
        "outputId": "b0074c35-6735-4cee-e21e-938e101fd41f"
      },
      "source": [
        "for i in range(1, 3):\n",
        "    for j in range(3, 5):\n",
        "        print(i*j)"
      ],
      "execution_count": 10,
      "outputs": [
        {
          "output_type": "stream",
          "text": [
            "3\n",
            "4\n",
            "6\n",
            "8\n"
          ],
          "name": "stdout"
        }
      ]
    },
    {
      "cell_type": "markdown",
      "metadata": {
        "id": "21l4AMUOqizZ"
      },
      "source": [
        "for 밖에 또 for이 있다면 안에 for을 x바퀴 돌리고 또 밖에 for을 x바퀴 돌리면 된다.\r\n",
        "\r\n",
        "range(3,5)면 3, 4이다."
      ]
    },
    {
      "cell_type": "code",
      "metadata": {
        "id": "ZPpZmVIHSLAY",
        "outputId": "0bbcc529-c1d8-4774-e1ad-9de8b9e065ce"
      },
      "source": [
        "for i in range(1, 3):\n",
        "    for j in range(3, 5):\n",
        "        if j >=4:\n",
        "            print(i*j)"
      ],
      "execution_count": null,
      "outputs": [
        {
          "output_type": "stream",
          "text": [
            "4\n",
            "8\n"
          ],
          "name": "stdout"
        }
      ]
    },
    {
      "cell_type": "code",
      "metadata": {
        "id": "JQXk5vi0SLAY",
        "colab": {
          "base_uri": "https://localhost:8080/"
        },
        "outputId": "db276d4f-4531-4213-e5a0-93f84fc064d9"
      },
      "source": [
        "a = [1, 2, 3, 4]\n",
        "b = [i for i in a if i >=2]\n",
        "b"
      ],
      "execution_count": 8,
      "outputs": [
        {
          "output_type": "execute_result",
          "data": {
            "text/plain": [
              "[2, 3, 4]"
            ]
          },
          "metadata": {
            "tags": []
          },
          "execution_count": 8
        }
      ]
    },
    {
      "cell_type": "markdown",
      "metadata": {
        "id": "CpqoGvo6sffK"
      },
      "source": [
        "b가 아주 중요한 부분. b도 리스트는 맞다. \r\n",
        "\r\n",
        "for i in [1,2,3,4]\r\n",
        "\r\n",
        "if i >=2\r\n",
        "\r\n",
        "i   \r\n",
        "\r\n",
        "b를 풀어서 이렇게 세줄로 쓸수 있다."
      ]
    },
    {
      "cell_type": "code",
      "metadata": {
        "id": "MDmBGZ3LSLAZ",
        "outputId": "bd06f885-7334-43d9-d92d-848c615f6771"
      },
      "source": [
        "a = ['red', 'green', 'blue', 'purple']\n",
        "b = [i for i in a if len(i) >=4]\n",
        "b"
      ],
      "execution_count": null,
      "outputs": [
        {
          "output_type": "execute_result",
          "data": {
            "text/plain": [
              "['green', 'blue', 'purple']"
            ]
          },
          "metadata": {
            "tags": []
          },
          "execution_count": 13
        }
      ]
    },
    {
      "cell_type": "markdown",
      "metadata": {
        "id": "lQSVjutwtbEj"
      },
      "source": [
        "b = [i] 이지만 아직 어떻게 정의되는지 모른다.\r\n",
        "\r\n",
        "for i in a:\r\n",
        "\r\n",
        "  if len(i)>=4\r\n",
        "\r\n",
        "철자가 4개 이상인 것을 골라서 list up을 해라. 라고 해석 가능."
      ]
    }
  ]
}