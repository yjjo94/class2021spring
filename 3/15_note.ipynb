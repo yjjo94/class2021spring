{
  "nbformat": 4,
  "nbformat_minor": 0,
  "metadata": {
    "colab": {
      "name": "3.15 note.ipynb",
      "provenance": [],
      "collapsed_sections": [],
      "authorship_tag": "ABX9TyMZ9qhslrCiOkrAwQ/5adoQ",
      "include_colab_link": true
    },
    "kernelspec": {
      "name": "python3",
      "display_name": "Python 3"
    }
  },
  "cells": [
    {
      "cell_type": "markdown",
      "metadata": {
        "id": "view-in-github",
        "colab_type": "text"
      },
      "source": [
        "<a href=\"https://colab.research.google.com/github/yjjo94/class2021spring/blob/main/3/15_note.ipynb\" target=\"_parent\"><img src=\"https://colab.research.google.com/assets/colab-badge.svg\" alt=\"Open In Colab\"/></a>"
      ]
    },
    {
      "cell_type": "code",
      "metadata": {
        "id": "OWydr-7Qxi3A"
      },
      "source": [
        ""
      ],
      "execution_count": null,
      "outputs": []
    },
    {
      "cell_type": "code",
      "metadata": {
        "id": "0fR2oUIbVI2W"
      },
      "source": [
        "a = [1,'2', [3, '4']]"
      ],
      "execution_count": null,
      "outputs": []
    },
    {
      "cell_type": "markdown",
      "metadata": {
        "id": "JPcLivuZVZZm"
      },
      "source": [
        "print(a[0]) --> a의 0번째를 출력해라. 0번째는 셀의  첫번째 값을 뜻함."
      ]
    },
    {
      "cell_type": "code",
      "metadata": {
        "id": "0QCuZh0EV4gF"
      },
      "source": [
        "a = (1, 2, 3)\r\n",
        "a[a] = -1"
      ],
      "execution_count": null,
      "outputs": []
    },
    {
      "cell_type": "markdown",
      "metadata": {
        "id": "SQkPIbQjV9o9"
      },
      "source": [
        "a[a] = -1 이런 싱그로 쓰면 에러가 뜬다. 왜냐하면 tuple은 수정이 안되기 때문. 그래서 프로젝트 할때 조금 안전한 면이 있다."
      ]
    },
    {
      "cell_type": "code",
      "metadata": {
        "colab": {
          "base_uri": "https://localhost:8080/"
        },
        "id": "4Z-RlOhHWMA1",
        "outputId": "b5111465-c05a-43a3-aec1-a3620da5b965"
      },
      "source": [
        "a =\t{\"a\": \"apple\", \"b\": \"orange\", \"c\": 2014}\r\n",
        "print(a[\"a\"])"
      ],
      "execution_count": null,
      "outputs": [
        {
          "output_type": "stream",
          "text": [
            "apple\n"
          ],
          "name": "stdout"
        }
      ]
    },
    {
      "cell_type": "markdown",
      "metadata": {
        "id": "waSSP8TXWM-t"
      },
      "source": [
        "사전의 형태. xx: yy 라는 형태. dictionary\r\n",
        "\r\n",
        "a[1] 라는 명령어는 먹히지 않는다. 왜냐하면 dic에는 순서가 없기 때문."
      ]
    },
    {
      "cell_type": "markdown",
      "metadata": {
        "id": "W6emhBg8XoPc"
      },
      "source": [
        "-----------------------------------------------------------------------------"
      ]
    },
    {
      "cell_type": "code",
      "metadata": {
        "colab": {
          "base_uri": "https://localhost:8080/"
        },
        "id": "kmsriHMwXrTU",
        "outputId": "a4c05afd-313a-461f-801d-bc25e2dca9ac"
      },
      "source": [
        "s = 'abcdef'\r\n",
        "print(s[0], s[5], s[-1], s[-6])\r\n",
        "print(s[1:3], s[1:], s[:3], s[:])"
      ],
      "execution_count": null,
      "outputs": [
        {
          "output_type": "stream",
          "text": [
            "a f f a\n",
            "bc bcdef abc abcdef\n"
          ],
          "name": "stdout"
        }
      ]
    },
    {
      "cell_type": "markdown",
      "metadata": {
        "id": "3OxBQbbhYH_8"
      },
      "source": [
        "s = 'abcdef'는 list는 아니지만 list와 비슷하다. abcdef는 character가 아니고 string이다.\r\n",
        "s[0]를 하면 'a'가 나온다.\r\n",
        "1:3 은 1부터 3까지 = index 1에서 index 3 전까지 라는 뜻.\r\n",
        "1: 는 1부터 끝까지 라는 뜻\r\n",
        ":3 은 처음부터 3 전까지"
      ]
    },
    {
      "cell_type": "code",
      "metadata": {
        "id": "JiCxefeDYo_1"
      },
      "source": [
        "n = [100, 200, 300]\r\n",
        "print(n[0], n[2], n[-1], n[-3])\r\n",
        "print(n[1:2], n[1:], n[:2], n[:])"
      ],
      "execution_count": null,
      "outputs": []
    },
    {
      "cell_type": "markdown",
      "metadata": {
        "id": "I98ynAx5Ypxs"
      },
      "source": [
        ""
      ]
    },
    {
      "cell_type": "code",
      "metadata": {
        "id": "B-4Qj7h5urKg",
        "outputId": "df319b55-b2fa-4fe2-d125-b487ac8f2f5e"
      },
      "source": [
        "s.upper()"
      ],
      "execution_count": null,
      "outputs": [
        {
          "output_type": "execute_result",
          "data": {
            "text/plain": [
              "'ABCDEF'"
            ]
          },
          "metadata": {
            "tags": []
          },
          "execution_count": 7
        }
      ]
    },
    {
      "cell_type": "markdown",
      "metadata": {
        "id": "3Mel6XXUaptE"
      },
      "source": [
        "대문자로해라"
      ]
    },
    {
      "cell_type": "code",
      "metadata": {
        "id": "2upnpA4aurKi",
        "outputId": "a18d13c9-a9af-4bfc-f6aa-c1544753e4d7"
      },
      "source": [
        "tokens = s.split(' ')\t        # split s into a list wherever a t is found (whitespace by default)\n",
        "tokens"
      ],
      "execution_count": null,
      "outputs": [
        {
          "output_type": "execute_result",
          "data": {
            "text/plain": [
              "['this', 'is', 'a', 'house', 'built', 'this', 'year.']"
            ]
          },
          "metadata": {
            "tags": []
          },
          "execution_count": 15
        }
      ]
    },
    {
      "cell_type": "markdown",
      "metadata": {
        "id": "q5VdbyhEcnwT"
      },
      "source": [
        "s.split(' ') 빈칸을 기준으로 나누어라. 그리고 그것을 list하여라"
      ]
    },
    {
      "cell_type": "code",
      "metadata": {
        "id": "HIUkcuqaurKi",
        "outputId": "b795e3ba-6271-4b95-b3d0-0dca7864e9c4"
      },
      "source": [
        "s = ' '.join(tokens)\t        # combine the words of the text into a string using s as the glue\n",
        "s"
      ],
      "execution_count": null,
      "outputs": [
        {
          "output_type": "execute_result",
          "data": {
            "text/plain": [
              "'this is a house built this year.'"
            ]
          },
          "metadata": {
            "tags": []
          },
          "execution_count": 16
        }
      ]
    },
    {
      "cell_type": "markdown",
      "metadata": {
        "id": "n4TCtA6-dtHL"
      },
      "source": [
        "a[] 대괄호 안에는 반드시 숫자가 들어가야한다. \r\n",
        "a = ['a', 2]\r\n",
        "print(a[0]) 을 하면 1이 나온다. 하지만 이것은 사실 '1'이다. string이다.  type을 사용해보면 string 이라고 나온다. print라는 함수의 기능에는 따옴표를 없애는 기능이 있다."
      ]
    }
  ]
}