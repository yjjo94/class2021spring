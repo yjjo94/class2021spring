{
  "nbformat": 4,
  "nbformat_minor": 0,
  "metadata": {
    "colab": {
      "name": "test.ipynb",
      "provenance": [],
      "collapsed_sections": [],
      "authorship_tag": "ABX9TyNA/udpYzylR8iHFU1U6gfo",
      "include_colab_link": true
    },
    "kernelspec": {
      "name": "python3",
      "display_name": "Python 3"
    }
  },
  "cells": [
    {
      "cell_type": "markdown",
      "metadata": {
        "id": "view-in-github",
        "colab_type": "text"
      },
      "source": [
        "<a href=\"https://colab.research.google.com/github/yjjo94/class2021spring/blob/main/programming.ipynb\" target=\"_parent\"><img src=\"https://colab.research.google.com/assets/colab-badge.svg\" alt=\"Open In Colab\"/></a>"
      ]
    },
    {
      "cell_type": "markdown",
      "metadata": {
        "id": "pHuBjTkspUeR"
      },
      "source": [
        "# Promgraming\r\n",
        "컴퓨터 언어: 변수, 제어문, 함수\r\n",
        "\r\n",
        "사람의 언어는 단어와 문법으로 구성되어 있다. 컴퓨터의 언어 또한 단어와 문법으로 구성되어 있다. 컴퓨터의 언어에서 단어는 변수를 의미한다. 예를 들어 a = 1 에서 a가 변수를 의미한다. a라는 변수에 1이 assign 되었다는 뜻.\r\n",
        "\r\n",
        "컴퓨터의 언어에서 문법은 제어문이다. 제어문은 크게 두 종류로 나뉘어져 있다. 조건문과 반복문이다. 조건문은 if를 이용해서 만들어지고, 반복문은 for를 이용해서 만들어진다.\r\n",
        "\r\n",
        "함수란 입력과 출력의 관계를 나타낸다. 예를들어 3x + 1 이라는 일차함수가 있고 x에 1을 입력하면 출력값으로 4가 나오게 되는데 이것이 함수의 가장 기본적인 정의라고 할 수 있다. 함수는 어디든지 존재하는데 음료수 자판기, 자동차도 함수로 이루어져 있고, 인간의 몸 또한 일종의 함수라고 볼 여지가 있다."
      ]
    },
    {
      "cell_type": "code",
      "metadata": {
        "colab": {
          "base_uri": "https://localhost:8080/"
        },
        "id": "Px-nfgCSvINR",
        "outputId": "ac570ce6-8373-448c-de04-e00d9bd7797e"
      },
      "source": [
        "a = 1\r\n",
        "b = 'love'\r\n",
        "c = [1, 2, 7]\r\n",
        "d = [1, '2', 'love']\r\n",
        "e = (1, '2', 'love')\r\n",
        "f = {'a': 165, 'b': 172, 'c': 185}\r\n",
        "print(f)"
      ],
      "execution_count": 7,
      "outputs": [
        {
          "output_type": "stream",
          "text": [
            "{'a': 165, 'b': 172, 'c': 185}\n"
          ],
          "name": "stdout"
        }
      ]
    }
  ]
}